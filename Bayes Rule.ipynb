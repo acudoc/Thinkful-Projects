{
 "cells": [
  {
   "cell_type": "code",
   "execution_count": null,
   "metadata": {
    "collapsed": true
   },
   "outputs": [],
   "source": [
    "#1. Be positive\n",
    "# .98*.005 + .1*.995 = .1044\n",
    "\n",
    "#2. Correctly diagnose a sufferer of Thripshaw's\n",
    "# P(.5 | .98) = P(.98| .5) * P(.5) / P(.98) = .98\n",
    "\n",
    "#3. Correctly identify a non-sufferer of Thripshaw's\n",
    "# .1 = false positive so, .9 = Correct identifying a non-sufferer\n",
    "\n",
    "#4. Misclassify the person\n",
    "#1 - (.98*.005 + .9*.995) = .0996#//"
   ]
  }
 ],
 "metadata": {
  "kernelspec": {
   "display_name": "Python 3",
   "language": "python",
   "name": "python3"
  },
  "language_info": {
   "codemirror_mode": {
    "name": "ipython",
    "version": 3
   },
   "file_extension": ".py",
   "mimetype": "text/x-python",
   "name": "python",
   "nbconvert_exporter": "python",
   "pygments_lexer": "ipython3",
   "version": "3.6.3"
  }
 },
 "nbformat": 4,
 "nbformat_minor": 2
}
