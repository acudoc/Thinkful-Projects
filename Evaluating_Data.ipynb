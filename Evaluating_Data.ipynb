{
 "cells": [
  {
   "cell_type": "code",
   "execution_count": null,
   "metadata": {
    "collapsed": true
   },
   "outputs": [],
   "source": [
    "# 1) The data from AirBnB on Dec 24th will not show the full range of neighborhoods in Amsterdam. If the search was reframed\n",
    "# to look at 3 or 4 different dates throughout the year then using those ranges to determine popular areas. \n",
    "\n",
    "# 2) Looking at data from September 12, 2001 would not illustrate a normal day. There was more people looking for mental health\n",
    "# help that day because of the events from September 11th. Reframe: look at different dates throughout the year.\n",
    "\n",
    "# 3) The data for the Armenian Pub Survey is from people 17-21. The survey needs to inculde a more diverse age range. "
   ]
  }
 ],
 "metadata": {
  "kernelspec": {
   "display_name": "Python 3",
   "language": "python",
   "name": "python3"
  },
  "language_info": {
   "codemirror_mode": {
    "name": "ipython",
    "version": 3
   },
   "file_extension": ".py",
   "mimetype": "text/x-python",
   "name": "python",
   "nbconvert_exporter": "python",
   "pygments_lexer": "ipython3",
   "version": "3.6.3"
  }
 },
 "nbformat": 4,
 "nbformat_minor": 2
}
