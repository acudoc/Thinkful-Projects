{
 "cells": [
  {
   "cell_type": "code",
   "execution_count": 10,
   "metadata": {
    "collapsed": true
   },
   "outputs": [],
   "source": [
    "import pandas as pd\n",
    "brady = pd.DataFrame()\n",
    "brady['age'] = (14, 12, 11, 10, 8, 6, 8)"
   ]
  },
  {
   "cell_type": "code",
   "execution_count": 8,
   "metadata": {},
   "outputs": [
    {
     "name": "stdout",
     "output_type": "stream",
     "text": [
      "['Mean 9.857', 'Median 10', 'Var  7.476', 'Std  2.734', 'SE   0.956', 'Mode   8']\n"
     ]
    }
   ],
   "source": [
    "Answer1 = ['Mean 9.857',\n",
    "           'Median 10',\n",
    "           'Var  7.476',\n",
    "           'Std  2.734',\n",
    "           'SE   0.956',\n",
    "           'Mode   8']\n",
    "print(Answer1)"
   ]
  },
  {
   "cell_type": "code",
   "execution_count": 9,
   "metadata": {},
   "outputs": [
    {
     "name": "stdout",
     "output_type": "stream",
     "text": [
      "['The Mean is a good central tendency point, it is a small list']\n"
     ]
    }
   ],
   "source": [
    "Answer2 = ['The Mean is a good central tendency point, it is a small list']\n",
    "print(Answer2)"
   ]
  },
  {
   "cell_type": "code",
   "execution_count": 11,
   "metadata": {
    "collapsed": true
   },
   "outputs": [],
   "source": [
    "brady['age2'] = (14, 12, 11, 10, 8, 7, 8)"
   ]
  },
  {
   "cell_type": "code",
   "execution_count": 12,
   "metadata": {},
   "outputs": [
    {
     "name": "stdout",
     "output_type": "stream",
     "text": [
      "['Mean 10', 'Median 10', 'Var  6.333', 'Std  2.516', 'SE   0.880', 'Mode   8']\n"
     ]
    }
   ],
   "source": [
    "Answer3 = ['Mean 10',\n",
    "           'Median 10',\n",
    "           'Var  6.333',\n",
    "           'Std  2.516',\n",
    "           'SE   0.880',\n",
    "           'Mode   8']\n",
    "print(Answer3)"
   ]
  },
  {
   "cell_type": "code",
   "execution_count": 13,
   "metadata": {
    "collapsed": true
   },
   "outputs": [],
   "source": [
    "brady['age3'] = (14, 12, 11, 10, 8, 7, 1)"
   ]
  },
  {
   "cell_type": "code",
   "execution_count": 14,
   "metadata": {},
   "outputs": [
    {
     "name": "stdout",
     "output_type": "stream",
     "text": [
      "['Mean 9.0', 'Median 10', 'Var  18.0', 'Std  4.242', 'SE   1.484', 'Mode   none']\n"
     ]
    }
   ],
   "source": [
    "Answer4 = ['Mean 9.0',\n",
    "           'Median 10',\n",
    "           'Var  18.0',\n",
    "           'Std  4.242',\n",
    "           'SE   1.484',\n",
    "           'Mode   none']\n",
    "print(Answer4)"
   ]
  },
  {
   "cell_type": "code",
   "execution_count": 15,
   "metadata": {},
   "outputs": [
    {
     "name": "stdout",
     "output_type": "stream",
     "text": [
      "['The percent who like Brady is about %16 using all four magazines, but it should be %20 using the first three.']\n"
     ]
    }
   ],
   "source": [
    "Answer5 = ['The percent who like Brady is about %16 using all four magazines, but it should be %20 using the first three.']\n",
    "\n",
    "print(Answer5)"
   ]
  },
  {
   "cell_type": "code",
   "execution_count": null,
   "metadata": {
    "collapsed": true
   },
   "outputs": [],
   "source": []
  }
 ],
 "metadata": {
  "kernelspec": {
   "display_name": "Python 3",
   "language": "python",
   "name": "python3"
  },
  "language_info": {
   "codemirror_mode": {
    "name": "ipython",
    "version": 3
   },
   "file_extension": ".py",
   "mimetype": "text/x-python",
   "name": "python",
   "nbconvert_exporter": "python",
   "pygments_lexer": "ipython3",
   "version": "3.6.3"
  }
 },
 "nbformat": 4,
 "nbformat_minor": 2
}
