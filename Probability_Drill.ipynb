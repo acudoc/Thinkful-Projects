{
 "cells": [
  {
   "cell_type": "code",
   "execution_count": null,
   "metadata": {
    "collapsed": true
   },
   "outputs": [],
   "source": [
    "#P(H) = 1/2, P(T) = 1/2, P(T) = 1/2, P(H) = 1/2\n",
    "#   1/2 * 1/2 * 1/2 * 1/2 = 1/16\n",
    "# HTTH = 1/16, HHHH = 1/16, TTHH = 1/16"
   ]
  },
  {
   "cell_type": "code",
   "execution_count": null,
   "metadata": {
    "collapsed": true
   },
   "outputs": [],
   "source": [
    "# Group of 24 women and 21 men. To choose a man its 21/45.\n",
    "# What is probability of NOT choosing a man?\n",
    "# 24/45"
   ]
  },
  {
   "cell_type": "code",
   "execution_count": 4,
   "metadata": {},
   "outputs": [],
   "source": [
    "#Bernice will travel this year 10% chance.\n",
    "#A plane will crash at any time 0.005%\n",
    "#Chance of Bernice being in plane crash this year?\n",
    "#1/10 * 1/20000 = 0.0005%\n"
   ]
  },
  {
   "cell_type": "code",
   "execution_count": null,
   "metadata": {
    "collapsed": true
   },
   "outputs": [],
   "source": [
    "#the survey information is not from an diverse sample."
   ]
  },
  {
   "cell_type": "code",
   "execution_count": null,
   "metadata": {
    "collapsed": true
   },
   "outputs": [],
   "source": []
  }
 ],
 "metadata": {
  "kernelspec": {
   "display_name": "Python 3",
   "language": "python",
   "name": "python3"
  },
  "language_info": {
   "codemirror_mode": {
    "name": "ipython",
    "version": 3
   },
   "file_extension": ".py",
   "mimetype": "text/x-python",
   "name": "python",
   "nbconvert_exporter": "python",
   "pygments_lexer": "ipython3",
   "version": "3.6.3"
  }
 },
 "nbformat": 4,
 "nbformat_minor": 2
}
