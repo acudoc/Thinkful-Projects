{
 "cells": [
  {
   "cell_type": "markdown",
   "metadata": {},
   "source": [
    "#### Career Planning Document"
   ]
  },
  {
   "cell_type": "markdown",
   "metadata": {},
   "source": [
    "##### 1) Data Science Surveys"
   ]
  },
  {
   "cell_type": "markdown",
   "metadata": {},
   "source": [
    "###### Data Community DC Survey\n",
    "This survey gave me the data creative label. I do enjoy the creative part of looking at how to solve a specific problem from data. I believe that one of my strengths is discussing a problem and developing a successful plan to get a solution. Also, having experience in a board spectrum of industries gives me context for a wide variety of problems."
   ]
  },
  {
   "cell_type": "markdown",
   "metadata": {},
   "source": [
    "##### Mango Solutions Survey\n",
    "Data wrangler was the reslut of this survey. I was initially suprised by this, but I do have the most experience in this capacity on a researcher team. Also, in all of the professional roles I have held I was responsible for collecting, formating, and giving reports on the companies data."
   ]
  },
  {
   "cell_type": "markdown",
   "metadata": {},
   "source": [
    "##### 2) Five Job Postings"
   ]
  },
  {
   "cell_type": "markdown",
   "metadata": {},
   "source": [
    "###### Heal\n",
    "Data Scientist"
   ]
  },
  {
   "cell_type": "markdown",
   "metadata": {},
   "source": [
    "###### Oklahoma City Thunder\n",
    "Data Scientist-Intern"
   ]
  },
  {
   "cell_type": "markdown",
   "metadata": {},
   "source": [
    "###### Watson Health-IBM\n",
    "Data Scientist"
   ]
  },
  {
   "cell_type": "markdown",
   "metadata": {},
   "source": [
    "###### Xcel Energy\n",
    "Advanced Analytic Data Science Inten"
   ]
  },
  {
   "cell_type": "markdown",
   "metadata": {},
   "source": [
    "###### Intel\n",
    "Data Science Intern"
   ]
  },
  {
   "cell_type": "markdown",
   "metadata": {},
   "source": [
    "##### Dream Companies\n",
    "REI, I have always loved the company and would like to help people stay connected to outdoor adventure (in a round about way). DuckDuckgo, I like thier message \"the search engine that does not track you\" it seems like it would be nice to work with people who promote that message. US soccer, I have always loved soccer (played and coached) and then need all the help they can get right now. Amazon, because I would learn alot and it would be nice to a cheap prime membership. Mayo Clinic, they are the best healthcare system with alot of research opportunities."
   ]
  },
  {
   "cell_type": "markdown",
   "metadata": {
    "collapsed": true
   },
   "source": [
    "#### Write your own Story"
   ]
  },
  {
   "cell_type": "markdown",
   "metadata": {},
   "source": [
    "1) My ideal job would be working on a team where I could specialize in python and deep learning to solve complex problems on large data sets. Within, that context I would enjoy being at a company who use health and ecomnic data to make predictive models to solve an organizations problems. Through prior experience I see how many decisions are based on some combination of money and/or heatlh. I would think there would several different companies that would possible take this approach to help achieve thier business model goals.\n",
    "\n",
    "2) My dream job is to find a company that uses many data streams to find answers. I would like to utilize my research skills, knowledge of health, and ability to find answers in big data set to answer an organizations questions. Many companies look specifically to answers questions uses the same data with newer tools, I would like to use data from multiple categories to create solutions older models would never consider.\n",
    "\n",
    "3) I would like to work at a cutting edge company that would allow me to use my research and data skills to find solutions. Through synthesising data from multiple sources an organization can find value in areas that were previously unexplored.   "
   ]
  }
 ],
 "metadata": {
  "kernelspec": {
   "display_name": "Python 3",
   "language": "python",
   "name": "python3"
  },
  "language_info": {
   "codemirror_mode": {
    "name": "ipython",
    "version": 3
   },
   "file_extension": ".py",
   "mimetype": "text/x-python",
   "name": "python",
   "nbconvert_exporter": "python",
   "pygments_lexer": "ipython3",
   "version": "3.6.3"
  }
 },
 "nbformat": 4,
 "nbformat_minor": 2
}
